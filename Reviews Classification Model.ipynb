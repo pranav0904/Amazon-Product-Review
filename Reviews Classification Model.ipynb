{
 "cells": [
  {
   "cell_type": "code",
   "execution_count": 1,
   "id": "6045df63",
   "metadata": {},
   "outputs": [],
   "source": [
    "import pandas as pd\n",
    "import numpy as np\n",
    "import seaborn as sns\n",
    "\n",
    "import nltk\n",
    "from nltk.corpus import stopwords\n",
    "from nltk import PorterStemmer as stemmer\n",
    "from bs4 import BeautifulSoup \n",
    "import string\n",
    "import re\n",
    "\n",
    "import warnings\n",
    "warnings.filterwarnings('ignore')"
   ]
  },
  {
   "cell_type": "code",
   "execution_count": 2,
   "id": "995d36ee",
   "metadata": {},
   "outputs": [],
   "source": [
    "data = pd.read_csv(\"C:/Users/khist/AmazonProductReview/reviews/Roborock_reviews.csv\")"
   ]
  },
  {
   "cell_type": "code",
   "execution_count": 3,
   "id": "6012f131",
   "metadata": {},
   "outputs": [
    {
     "data": {
      "text/html": [
       "<div>\n",
       "<style scoped>\n",
       "    .dataframe tbody tr th:only-of-type {\n",
       "        vertical-align: middle;\n",
       "    }\n",
       "\n",
       "    .dataframe tbody tr th {\n",
       "        vertical-align: top;\n",
       "    }\n",
       "\n",
       "    .dataframe thead th {\n",
       "        text-align: right;\n",
       "    }\n",
       "</style>\n",
       "<table border=\"1\" class=\"dataframe\">\n",
       "  <thead>\n",
       "    <tr style=\"text-align: right;\">\n",
       "      <th></th>\n",
       "      <th>Rating</th>\n",
       "      <th>Review_title</th>\n",
       "      <th>Product_review</th>\n",
       "    </tr>\n",
       "  </thead>\n",
       "  <tbody>\n",
       "    <tr>\n",
       "      <th>0</th>\n",
       "      <td>5.0 out of 5 stars</td>\n",
       "      <td>BEST ROB VAC (in this price range)</td>\n",
       "      <td>I purchased the Roborock E4 over a month ago.</td>\n",
       "    </tr>\n",
       "    <tr>\n",
       "      <th>1</th>\n",
       "      <td>4.0 out of 5 stars</td>\n",
       "      <td>A True LIFE SAVER!!!!</td>\n",
       "      <td>I've only noticed a few minor issues with this...</td>\n",
       "    </tr>\n",
       "    <tr>\n",
       "      <th>2</th>\n",
       "      <td>5.0 out of 5 stars</td>\n",
       "      <td>Great value robot vac</td>\n",
       "      <td>We have had this little vac for almost two mo...</td>\n",
       "    </tr>\n",
       "    <tr>\n",
       "      <th>3</th>\n",
       "      <td>5.0 out of 5 stars</td>\n",
       "      <td>My new helper</td>\n",
       "      <td>First of all, I used to be a person who saw a ...</td>\n",
       "    </tr>\n",
       "    <tr>\n",
       "      <th>4</th>\n",
       "      <td>1.0 out of 5 stars</td>\n",
       "      <td>Gets stuck on EVERYTHING. Constant supervision...</td>\n",
       "      <td>Grabbed this on Cyber Monday and was really e...</td>\n",
       "    </tr>\n",
       "  </tbody>\n",
       "</table>\n",
       "</div>"
      ],
      "text/plain": [
       "               Rating                                       Review_title  \\\n",
       "0  5.0 out of 5 stars                 BEST ROB VAC (in this price range)   \n",
       "1  4.0 out of 5 stars                              A True LIFE SAVER!!!!   \n",
       "2  5.0 out of 5 stars                              Great value robot vac   \n",
       "3  5.0 out of 5 stars                                      My new helper   \n",
       "4  1.0 out of 5 stars  Gets stuck on EVERYTHING. Constant supervision...   \n",
       "\n",
       "                                      Product_review  \n",
       "0      I purchased the Roborock E4 over a month ago.  \n",
       "1  I've only noticed a few minor issues with this...  \n",
       "2   We have had this little vac for almost two mo...  \n",
       "3  First of all, I used to be a person who saw a ...  \n",
       "4   Grabbed this on Cyber Monday and was really e...  "
      ]
     },
     "execution_count": 3,
     "metadata": {},
     "output_type": "execute_result"
    }
   ],
   "source": [
    "data.head()"
   ]
  },
  {
   "cell_type": "code",
   "execution_count": 4,
   "id": "589fcc0f",
   "metadata": {},
   "outputs": [
    {
     "name": "stdout",
     "output_type": "stream",
     "text": [
      "<class 'pandas.core.frame.DataFrame'>\n",
      "RangeIndex: 1378 entries, 0 to 1377\n",
      "Data columns (total 3 columns):\n",
      " #   Column          Non-Null Count  Dtype \n",
      "---  ------          --------------  ----- \n",
      " 0   Rating          1367 non-null   object\n",
      " 1   Review_title    1378 non-null   object\n",
      " 2   Product_review  1378 non-null   object\n",
      "dtypes: object(3)\n",
      "memory usage: 32.4+ KB\n"
     ]
    }
   ],
   "source": [
    "data.info()"
   ]
  },
  {
   "cell_type": "code",
   "execution_count": 5,
   "id": "8d883244",
   "metadata": {},
   "outputs": [],
   "source": [
    "data.dropna(inplace = True)"
   ]
  },
  {
   "cell_type": "code",
   "execution_count": 6,
   "id": "2e0c898d",
   "metadata": {},
   "outputs": [],
   "source": [
    "def strip_rating(r):\n",
    "    return str(r).split('.')[0]"
   ]
  },
  {
   "cell_type": "code",
   "execution_count": 7,
   "id": "f0b570ba",
   "metadata": {},
   "outputs": [],
   "source": [
    "data['Rating'] = data['Rating'].apply(strip_rating)"
   ]
  },
  {
   "cell_type": "code",
   "execution_count": 8,
   "id": "d372742e",
   "metadata": {},
   "outputs": [
    {
     "name": "stdout",
     "output_type": "stream",
     "text": [
      "<class 'pandas.core.frame.DataFrame'>\n",
      "Int64Index: 1367 entries, 0 to 1366\n",
      "Data columns (total 3 columns):\n",
      " #   Column          Non-Null Count  Dtype \n",
      "---  ------          --------------  ----- \n",
      " 0   Rating          1367 non-null   object\n",
      " 1   Review_title    1367 non-null   object\n",
      " 2   Product_review  1367 non-null   object\n",
      "dtypes: object(3)\n",
      "memory usage: 42.7+ KB\n"
     ]
    }
   ],
   "source": [
    "data.info()"
   ]
  },
  {
   "cell_type": "code",
   "execution_count": 9,
   "id": "b5b17995",
   "metadata": {},
   "outputs": [
    {
     "data": {
      "text/html": [
       "<div>\n",
       "<style scoped>\n",
       "    .dataframe tbody tr th:only-of-type {\n",
       "        vertical-align: middle;\n",
       "    }\n",
       "\n",
       "    .dataframe tbody tr th {\n",
       "        vertical-align: top;\n",
       "    }\n",
       "\n",
       "    .dataframe thead th {\n",
       "        text-align: right;\n",
       "    }\n",
       "</style>\n",
       "<table border=\"1\" class=\"dataframe\">\n",
       "  <thead>\n",
       "    <tr style=\"text-align: right;\">\n",
       "      <th></th>\n",
       "      <th>Rating</th>\n",
       "      <th>Review_title</th>\n",
       "      <th>Product_review</th>\n",
       "    </tr>\n",
       "  </thead>\n",
       "  <tbody>\n",
       "    <tr>\n",
       "      <th>0</th>\n",
       "      <td>5</td>\n",
       "      <td>BEST ROB VAC (in this price range)</td>\n",
       "      <td>I purchased the Roborock E4 over a month ago.</td>\n",
       "    </tr>\n",
       "    <tr>\n",
       "      <th>1</th>\n",
       "      <td>4</td>\n",
       "      <td>A True LIFE SAVER!!!!</td>\n",
       "      <td>I've only noticed a few minor issues with this...</td>\n",
       "    </tr>\n",
       "    <tr>\n",
       "      <th>2</th>\n",
       "      <td>5</td>\n",
       "      <td>Great value robot vac</td>\n",
       "      <td>We have had this little vac for almost two mo...</td>\n",
       "    </tr>\n",
       "    <tr>\n",
       "      <th>3</th>\n",
       "      <td>5</td>\n",
       "      <td>My new helper</td>\n",
       "      <td>First of all, I used to be a person who saw a ...</td>\n",
       "    </tr>\n",
       "    <tr>\n",
       "      <th>4</th>\n",
       "      <td>1</td>\n",
       "      <td>Gets stuck on EVERYTHING. Constant supervision...</td>\n",
       "      <td>Grabbed this on Cyber Monday and was really e...</td>\n",
       "    </tr>\n",
       "  </tbody>\n",
       "</table>\n",
       "</div>"
      ],
      "text/plain": [
       "  Rating                                       Review_title  \\\n",
       "0      5                 BEST ROB VAC (in this price range)   \n",
       "1      4                              A True LIFE SAVER!!!!   \n",
       "2      5                              Great value robot vac   \n",
       "3      5                                      My new helper   \n",
       "4      1  Gets stuck on EVERYTHING. Constant supervision...   \n",
       "\n",
       "                                      Product_review  \n",
       "0      I purchased the Roborock E4 over a month ago.  \n",
       "1  I've only noticed a few minor issues with this...  \n",
       "2   We have had this little vac for almost two mo...  \n",
       "3  First of all, I used to be a person who saw a ...  \n",
       "4   Grabbed this on Cyber Monday and was really e...  "
      ]
     },
     "execution_count": 9,
     "metadata": {},
     "output_type": "execute_result"
    }
   ],
   "source": [
    "data.head()"
   ]
  },
  {
   "cell_type": "code",
   "execution_count": 10,
   "id": "3a55c997",
   "metadata": {},
   "outputs": [
    {
     "name": "stderr",
     "output_type": "stream",
     "text": [
      "[nltk_data] Downloading package stopwords to\n",
      "[nltk_data]     C:\\Users\\khist\\AppData\\Roaming\\nltk_data...\n",
      "[nltk_data]   Package stopwords is already up-to-date!\n"
     ]
    }
   ],
   "source": [
    "nltk.download('stopwords')\n",
    "STOPWORDS=stopwords.words(\"english\") #is, he, that, etc."
   ]
  },
  {
   "cell_type": "code",
   "execution_count": 11,
   "id": "275c867f",
   "metadata": {},
   "outputs": [],
   "source": [
    "def Remove_Emojify(review):\n",
    "    return review.encode('ascii', 'ignore').decode('ascii') \n",
    "\n",
    "def clean_text(text):\n",
    "    ps=stemmer()\n",
    "    \n",
    "    text = Remove_Emojify(text) # remove Emojis\n",
    "    \n",
    "    text_cleaned = \"\".join([x for x in text if x not in string.punctuation]) # remove punctuation\n",
    "    \n",
    "    text_cleaned = re.sub(' +', ' ', text_cleaned) # remove extra white spaces\n",
    "    \n",
    "    text_cleaned = text_cleaned.lower() # converting to lowercase\n",
    "    \n",
    "    tokens = text_cleaned.split(\" \")\n",
    "    tokens = [token for token in tokens if token not in STOPWORDS] # Taking only those words which are not stopwords\n",
    "    text_cleaned = \" \".join([ps.stem(token) for token in tokens])\n",
    "    \n",
    "    return text_cleaned\n",
    "\n",
    "data['cleaned_review']=data['Product_review'].apply(lambda x:clean_text(x))"
   ]
  },
  {
   "cell_type": "code",
   "execution_count": 12,
   "id": "7da6810d",
   "metadata": {},
   "outputs": [
    {
     "data": {
      "text/html": [
       "<div>\n",
       "<style scoped>\n",
       "    .dataframe tbody tr th:only-of-type {\n",
       "        vertical-align: middle;\n",
       "    }\n",
       "\n",
       "    .dataframe tbody tr th {\n",
       "        vertical-align: top;\n",
       "    }\n",
       "\n",
       "    .dataframe thead th {\n",
       "        text-align: right;\n",
       "    }\n",
       "</style>\n",
       "<table border=\"1\" class=\"dataframe\">\n",
       "  <thead>\n",
       "    <tr style=\"text-align: right;\">\n",
       "      <th></th>\n",
       "      <th>Rating</th>\n",
       "      <th>Review_title</th>\n",
       "      <th>Product_review</th>\n",
       "      <th>cleaned_review</th>\n",
       "    </tr>\n",
       "  </thead>\n",
       "  <tbody>\n",
       "    <tr>\n",
       "      <th>0</th>\n",
       "      <td>5</td>\n",
       "      <td>BEST ROB VAC (in this price range)</td>\n",
       "      <td>I purchased the Roborock E4 over a month ago.</td>\n",
       "      <td>purchas roborock e4 month ago</td>\n",
       "    </tr>\n",
       "    <tr>\n",
       "      <th>1</th>\n",
       "      <td>4</td>\n",
       "      <td>A True LIFE SAVER!!!!</td>\n",
       "      <td>I've only noticed a few minor issues with this...</td>\n",
       "      <td>ive notic minor issu vacuum sometim doesnt ent...</td>\n",
       "    </tr>\n",
       "    <tr>\n",
       "      <th>2</th>\n",
       "      <td>5</td>\n",
       "      <td>Great value robot vac</td>\n",
       "      <td>We have had this little vac for almost two mo...</td>\n",
       "      <td>littl vac almost two month thought time review...</td>\n",
       "    </tr>\n",
       "    <tr>\n",
       "      <th>3</th>\n",
       "      <td>5</td>\n",
       "      <td>My new helper</td>\n",
       "      <td>First of all, I used to be a person who saw a ...</td>\n",
       "      <td>first use person saw robot vacuum worth coupl ...</td>\n",
       "    </tr>\n",
       "    <tr>\n",
       "      <th>4</th>\n",
       "      <td>1</td>\n",
       "      <td>Gets stuck on EVERYTHING. Constant supervision...</td>\n",
       "      <td>Grabbed this on Cyber Monday and was really e...</td>\n",
       "      <td>grab cyber monday realli excit first clean ses...</td>\n",
       "    </tr>\n",
       "  </tbody>\n",
       "</table>\n",
       "</div>"
      ],
      "text/plain": [
       "  Rating                                       Review_title  \\\n",
       "0      5                 BEST ROB VAC (in this price range)   \n",
       "1      4                              A True LIFE SAVER!!!!   \n",
       "2      5                              Great value robot vac   \n",
       "3      5                                      My new helper   \n",
       "4      1  Gets stuck on EVERYTHING. Constant supervision...   \n",
       "\n",
       "                                      Product_review  \\\n",
       "0      I purchased the Roborock E4 over a month ago.   \n",
       "1  I've only noticed a few minor issues with this...   \n",
       "2   We have had this little vac for almost two mo...   \n",
       "3  First of all, I used to be a person who saw a ...   \n",
       "4   Grabbed this on Cyber Monday and was really e...   \n",
       "\n",
       "                                      cleaned_review  \n",
       "0                      purchas roborock e4 month ago  \n",
       "1  ive notic minor issu vacuum sometim doesnt ent...  \n",
       "2  littl vac almost two month thought time review...  \n",
       "3  first use person saw robot vacuum worth coupl ...  \n",
       "4  grab cyber monday realli excit first clean ses...  "
      ]
     },
     "execution_count": 12,
     "metadata": {},
     "output_type": "execute_result"
    }
   ],
   "source": [
    "data.head()"
   ]
  },
  {
   "cell_type": "code",
   "execution_count": 13,
   "id": "9bc5e243",
   "metadata": {},
   "outputs": [
    {
     "data": {
      "text/html": [
       "<div>\n",
       "<style scoped>\n",
       "    .dataframe tbody tr th:only-of-type {\n",
       "        vertical-align: middle;\n",
       "    }\n",
       "\n",
       "    .dataframe tbody tr th {\n",
       "        vertical-align: top;\n",
       "    }\n",
       "\n",
       "    .dataframe thead th {\n",
       "        text-align: right;\n",
       "    }\n",
       "</style>\n",
       "<table border=\"1\" class=\"dataframe\">\n",
       "  <thead>\n",
       "    <tr style=\"text-align: right;\">\n",
       "      <th></th>\n",
       "      <th>text</th>\n",
       "      <th>neg</th>\n",
       "      <th>pos</th>\n",
       "    </tr>\n",
       "  </thead>\n",
       "  <tbody>\n",
       "    <tr>\n",
       "      <th>0</th>\n",
       "      <td>purchas roborock e4 month ago</td>\n",
       "      <td>0</td>\n",
       "      <td>1</td>\n",
       "    </tr>\n",
       "    <tr>\n",
       "      <th>1</th>\n",
       "      <td>ive notic minor issu vacuum sometim doesnt ent...</td>\n",
       "      <td>0</td>\n",
       "      <td>1</td>\n",
       "    </tr>\n",
       "    <tr>\n",
       "      <th>2</th>\n",
       "      <td>littl vac almost two month thought time review...</td>\n",
       "      <td>0</td>\n",
       "      <td>1</td>\n",
       "    </tr>\n",
       "    <tr>\n",
       "      <th>3</th>\n",
       "      <td>first use person saw robot vacuum worth coupl ...</td>\n",
       "      <td>0</td>\n",
       "      <td>1</td>\n",
       "    </tr>\n",
       "    <tr>\n",
       "      <th>4</th>\n",
       "      <td>grab cyber monday realli excit first clean ses...</td>\n",
       "      <td>1</td>\n",
       "      <td>0</td>\n",
       "    </tr>\n",
       "  </tbody>\n",
       "</table>\n",
       "</div>"
      ],
      "text/plain": [
       "                                                text  neg  pos\n",
       "0                      purchas roborock e4 month ago    0    1\n",
       "1  ive notic minor issu vacuum sometim doesnt ent...    0    1\n",
       "2  littl vac almost two month thought time review...    0    1\n",
       "3  first use person saw robot vacuum worth coupl ...    0    1\n",
       "4  grab cyber monday realli excit first clean ses...    1    0"
      ]
     },
     "execution_count": 13,
     "metadata": {},
     "output_type": "execute_result"
    }
   ],
   "source": [
    "df = data[['Rating','cleaned_review']] \n",
    "df['Rating'] = df['Rating'].apply(lambda x: 'neg' if int(x) <= 3 else 'pos')\n",
    "df.columns = ['label', 'text']\n",
    "df = pd.concat([df, df.label.astype('str').str.get_dummies()], axis=1, sort=False)\n",
    "df = df[['text', 'neg','pos']]\n",
    "df.head()"
   ]
  },
  {
   "cell_type": "code",
   "execution_count": 14,
   "id": "997d74ad",
   "metadata": {},
   "outputs": [],
   "source": [
    "import ktrain\n",
    "from ktrain import text"
   ]
  },
  {
   "cell_type": "code",
   "execution_count": 15,
   "id": "8b42a6d4",
   "metadata": {},
   "outputs": [
    {
     "name": "stdout",
     "output_type": "stream",
     "text": [
      "['neg', 'pos']\n",
      "      neg  pos\n",
      "646     0    1\n",
      "704     0    1\n",
      "1192    0    1\n",
      "894     0    1\n",
      "1082    0    1\n",
      "['neg', 'pos']\n",
      "      neg  pos\n",
      "1009    0    1\n",
      "151     0    1\n",
      "41      0    1\n",
      "990     1    0\n",
      "1188    0    1\n",
      "preprocessing train...\n",
      "language: en\n"
     ]
    },
    {
     "data": {
      "text/html": [
       "done."
      ],
      "text/plain": [
       "<IPython.core.display.HTML object>"
      ]
     },
     "metadata": {},
     "output_type": "display_data"
    },
    {
     "name": "stdout",
     "output_type": "stream",
     "text": [
      "Is Multi-Label? False\n",
      "preprocessing test...\n",
      "language: en\n"
     ]
    },
    {
     "data": {
      "text/html": [
       "done."
      ],
      "text/plain": [
       "<IPython.core.display.HTML object>"
      ]
     },
     "metadata": {},
     "output_type": "display_data"
    }
   ],
   "source": [
    "trn, val, preproc = text.texts_from_df(df, \n",
    "                                       'text', # name of column containing review text\n",
    "                                       label_columns=['neg','pos'],\n",
    "                                       maxlen=75, \n",
    "                                       max_features=100000,\n",
    "                                       preprocess_mode='bert',\n",
    "                                       val_pct=0.1)"
   ]
  },
  {
   "cell_type": "code",
   "execution_count": 16,
   "id": "4ee5e627",
   "metadata": {},
   "outputs": [
    {
     "name": "stdout",
     "output_type": "stream",
     "text": [
      "Is Multi-Label? False\n",
      "maxlen is 75\n",
      "done.\n"
     ]
    }
   ],
   "source": [
    "model = text.text_classifier('bert', train_data=trn, preproc=preproc)"
   ]
  },
  {
   "cell_type": "code",
   "execution_count": 26,
   "id": "bb14dd81",
   "metadata": {},
   "outputs": [],
   "source": [
    "learner = ktrain.get_learner(model, train_data=trn, batch_size=15)"
   ]
  },
  {
   "cell_type": "code",
   "execution_count": 21,
   "id": "0ba31435",
   "metadata": {},
   "outputs": [],
   "source": [
    "#learner.lr_find(max_epochs=5)\n",
    "#learner.lr_plot()"
   ]
  },
  {
   "cell_type": "code",
   "execution_count": 23,
   "id": "39b77466",
   "metadata": {},
   "outputs": [],
   "source": [
    "#learner.validate(val_data=val)"
   ]
  },
  {
   "cell_type": "code",
   "execution_count": 27,
   "id": "5d244ffe",
   "metadata": {},
   "outputs": [
    {
     "name": "stdout",
     "output_type": "stream",
     "text": [
      "\n",
      "\n",
      "begin training using onecycle policy with max lr of 2e-05...\n",
      "Epoch 1/5\n",
      "82/82 [==============================] - 266s 3s/step - loss: 0.5885 - accuracy: 0.7041\n",
      "Epoch 2/5\n",
      "82/82 [==============================] - 268s 3s/step - loss: 0.4857 - accuracy: 0.7732\n",
      "Epoch 3/5\n",
      "82/82 [==============================] - 326s 4s/step - loss: 0.3795 - accuracy: 0.8309\n",
      "Epoch 4/5\n",
      "82/82 [==============================] - 514s 6s/step - loss: 0.1795 - accuracy: 0.9358\n",
      "Epoch 5/5\n",
      "82/82 [==============================] - 319s 4s/step - loss: 0.0658 - accuracy: 0.9837\n"
     ]
    },
    {
     "data": {
      "text/plain": [
       "<keras.callbacks.History at 0x1ce3e59c148>"
      ]
     },
     "execution_count": 27,
     "metadata": {},
     "output_type": "execute_result"
    }
   ],
   "source": [
    "learner.fit_onecycle(lr = 2e-5, epochs = 5)"
   ]
  },
  {
   "cell_type": "code",
   "execution_count": 28,
   "id": "450e3784",
   "metadata": {},
   "outputs": [
    {
     "name": "stdout",
     "output_type": "stream",
     "text": [
      "              precision    recall  f1-score   support\n",
      "\n",
      "           0       0.69      0.59      0.63        41\n",
      "           1       0.83      0.89      0.86        96\n",
      "\n",
      "    accuracy                           0.80       137\n",
      "   macro avg       0.76      0.74      0.75       137\n",
      "weighted avg       0.79      0.80      0.79       137\n",
      "\n"
     ]
    },
    {
     "data": {
      "text/plain": [
       "array([[24, 17],\n",
       "       [11, 85]], dtype=int64)"
      ]
     },
     "execution_count": 28,
     "metadata": {},
     "output_type": "execute_result"
    }
   ],
   "source": [
    "learner.validate(val_data=val)"
   ]
  },
  {
   "cell_type": "code",
   "execution_count": 29,
   "id": "eeed3e54",
   "metadata": {},
   "outputs": [],
   "source": [
    "predictor = ktrain.get_predictor(learner.model, preproc)"
   ]
  },
  {
   "cell_type": "code",
   "execution_count": 34,
   "id": "7ce78eec",
   "metadata": {},
   "outputs": [],
   "source": [
    "data = ['waste of money', \n",
    "        'beautiful as a gift',\n",
    "        'I use it all day, everyday',\n",
    "       'Worst product']"
   ]
  },
  {
   "cell_type": "code",
   "execution_count": 35,
   "id": "be019e88",
   "metadata": {},
   "outputs": [
    {
     "data": {
      "text/plain": [
       "['neg', 'pos', 'pos', 'neg']"
      ]
     },
     "execution_count": 35,
     "metadata": {},
     "output_type": "execute_result"
    }
   ],
   "source": [
    "predictor.predict(data)"
   ]
  },
  {
   "cell_type": "code",
   "execution_count": 38,
   "id": "ad87ed8b",
   "metadata": {},
   "outputs": [],
   "source": [
    "predictor.save('C:/Users/khist/Documents/GitHub/Amazon-Product-Review/my_predictor')"
   ]
  },
  {
   "cell_type": "code",
   "execution_count": 49,
   "id": "9dc227a5",
   "metadata": {},
   "outputs": [],
   "source": [
    "# save Predictor (i.e., model and Preprocessor instance) after partially training\n",
    "predictor.save('C:/Users/khist/Documents/GitHub/Amazon-Product-Review/my_predictor')\n",
    "\n"
   ]
  },
  {
   "cell_type": "code",
   "execution_count": 50,
   "id": "c8879f82",
   "metadata": {},
   "outputs": [],
   "source": [
    "# reload Predictor and extract model\n",
    "model = ktrain.load_predictor('C:/Users/khist/Documents/GitHub/Amazon-Product-Review/my_predictor').model\n",
    "preproc = ktrain.load_predictor('C:/Users/khist/Documents/GitHub/Amazon-Product-Review/my_predictor').preproc\n",
    "\n",
    "predictor = ktrain.get_predictor(model, preproc)"
   ]
  },
  {
   "cell_type": "code",
   "execution_count": 51,
   "id": "d3118877",
   "metadata": {},
   "outputs": [
    {
     "data": {
      "text/plain": [
       "['neg', 'pos', 'pos', 'neg']"
      ]
     },
     "execution_count": 51,
     "metadata": {},
     "output_type": "execute_result"
    }
   ],
   "source": [
    "predictor.predict(data)"
   ]
  },
  {
   "cell_type": "code",
   "execution_count": 52,
   "id": "aa9e621b",
   "metadata": {},
   "outputs": [],
   "source": [
    "import ktrain\n",
    "from ktrain import text"
   ]
  },
  {
   "cell_type": "code",
   "execution_count": null,
   "id": "70032c6f",
   "metadata": {},
   "outputs": [],
   "source": []
  }
 ],
 "metadata": {
  "kernelspec": {
   "display_name": "local-venv",
   "language": "python",
   "name": "local-venv"
  },
  "language_info": {
   "codemirror_mode": {
    "name": "ipython",
    "version": 3
   },
   "file_extension": ".py",
   "mimetype": "text/x-python",
   "name": "python",
   "nbconvert_exporter": "python",
   "pygments_lexer": "ipython3",
   "version": "3.7.11"
  }
 },
 "nbformat": 4,
 "nbformat_minor": 5
}

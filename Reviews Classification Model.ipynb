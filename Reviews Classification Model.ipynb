{
 "cells": [
  {
   "cell_type": "code",
   "execution_count": 1,
   "id": "6045df63",
   "metadata": {},
   "outputs": [],
   "source": [
    "import pandas as pd\n",
    "import numpy as np\n",
    "import seaborn as sns\n",
    "\n",
    "import warnings\n",
    "warnings.filterwarnings('ignore')"
   ]
  },
  {
   "cell_type": "code",
   "execution_count": 2,
   "id": "995d36ee",
   "metadata": {},
   "outputs": [],
   "source": [
    "data = pd.read_csv(\"reviews/Roborock_reviews.csv\")"
   ]
  },
  {
   "cell_type": "code",
   "execution_count": 3,
   "id": "6012f131",
   "metadata": {},
   "outputs": [
    {
     "data": {
      "text/html": [
       "<div>\n",
       "<style scoped>\n",
       "    .dataframe tbody tr th:only-of-type {\n",
       "        vertical-align: middle;\n",
       "    }\n",
       "\n",
       "    .dataframe tbody tr th {\n",
       "        vertical-align: top;\n",
       "    }\n",
       "\n",
       "    .dataframe thead th {\n",
       "        text-align: right;\n",
       "    }\n",
       "</style>\n",
       "<table border=\"1\" class=\"dataframe\">\n",
       "  <thead>\n",
       "    <tr style=\"text-align: right;\">\n",
       "      <th></th>\n",
       "      <th>Rating</th>\n",
       "      <th>Review_title</th>\n",
       "      <th>Product_review</th>\n",
       "    </tr>\n",
       "  </thead>\n",
       "  <tbody>\n",
       "    <tr>\n",
       "      <th>0</th>\n",
       "      <td>5.0 out of 5 stars</td>\n",
       "      <td>BEST ROB VAC (in this price range)</td>\n",
       "      <td>I purchased the Roborock E4 over a month ago.</td>\n",
       "    </tr>\n",
       "    <tr>\n",
       "      <th>1</th>\n",
       "      <td>4.0 out of 5 stars</td>\n",
       "      <td>A True LIFE SAVER!!!!</td>\n",
       "      <td>I've only noticed a few minor issues with this...</td>\n",
       "    </tr>\n",
       "    <tr>\n",
       "      <th>2</th>\n",
       "      <td>5.0 out of 5 stars</td>\n",
       "      <td>Great value robot vac</td>\n",
       "      <td>We have had this little vac for almost two mo...</td>\n",
       "    </tr>\n",
       "    <tr>\n",
       "      <th>3</th>\n",
       "      <td>5.0 out of 5 stars</td>\n",
       "      <td>My new helper</td>\n",
       "      <td>First of all, I used to be a person who saw a ...</td>\n",
       "    </tr>\n",
       "    <tr>\n",
       "      <th>4</th>\n",
       "      <td>1.0 out of 5 stars</td>\n",
       "      <td>Gets stuck on EVERYTHING. Constant supervision...</td>\n",
       "      <td>Grabbed this on Cyber Monday and was really e...</td>\n",
       "    </tr>\n",
       "  </tbody>\n",
       "</table>\n",
       "</div>"
      ],
      "text/plain": [
       "               Rating                                       Review_title  \\\n",
       "0  5.0 out of 5 stars                 BEST ROB VAC (in this price range)   \n",
       "1  4.0 out of 5 stars                              A True LIFE SAVER!!!!   \n",
       "2  5.0 out of 5 stars                              Great value robot vac   \n",
       "3  5.0 out of 5 stars                                      My new helper   \n",
       "4  1.0 out of 5 stars  Gets stuck on EVERYTHING. Constant supervision...   \n",
       "\n",
       "                                      Product_review  \n",
       "0      I purchased the Roborock E4 over a month ago.  \n",
       "1  I've only noticed a few minor issues with this...  \n",
       "2   We have had this little vac for almost two mo...  \n",
       "3  First of all, I used to be a person who saw a ...  \n",
       "4   Grabbed this on Cyber Monday and was really e...  "
      ]
     },
     "execution_count": 3,
     "metadata": {},
     "output_type": "execute_result"
    }
   ],
   "source": [
    "data.head()"
   ]
  },
  {
   "cell_type": "code",
   "execution_count": 4,
   "id": "589fcc0f",
   "metadata": {},
   "outputs": [
    {
     "name": "stdout",
     "output_type": "stream",
     "text": [
      "<class 'pandas.core.frame.DataFrame'>\n",
      "RangeIndex: 1378 entries, 0 to 1377\n",
      "Data columns (total 3 columns):\n",
      " #   Column          Non-Null Count  Dtype \n",
      "---  ------          --------------  ----- \n",
      " 0   Rating          1367 non-null   object\n",
      " 1   Review_title    1378 non-null   object\n",
      " 2   Product_review  1378 non-null   object\n",
      "dtypes: object(3)\n",
      "memory usage: 32.4+ KB\n"
     ]
    }
   ],
   "source": [
    "data.info()"
   ]
  },
  {
   "cell_type": "code",
   "execution_count": 5,
   "id": "8d883244",
   "metadata": {},
   "outputs": [],
   "source": [
    "data.dropna(inplace = True)"
   ]
  },
  {
   "cell_type": "code",
   "execution_count": 6,
   "id": "2e0c898d",
   "metadata": {},
   "outputs": [],
   "source": [
    "def strip_rating(r):\n",
    "    return str(r).split('.')[0]"
   ]
  },
  {
   "cell_type": "code",
   "execution_count": 7,
   "id": "f0b570ba",
   "metadata": {},
   "outputs": [],
   "source": [
    "data['Rating'] = data['Rating'].apply(strip_rating)"
   ]
  },
  {
   "cell_type": "code",
   "execution_count": 8,
   "id": "d372742e",
   "metadata": {},
   "outputs": [
    {
     "name": "stdout",
     "output_type": "stream",
     "text": [
      "<class 'pandas.core.frame.DataFrame'>\n",
      "Int64Index: 1367 entries, 0 to 1366\n",
      "Data columns (total 3 columns):\n",
      " #   Column          Non-Null Count  Dtype \n",
      "---  ------          --------------  ----- \n",
      " 0   Rating          1367 non-null   object\n",
      " 1   Review_title    1367 non-null   object\n",
      " 2   Product_review  1367 non-null   object\n",
      "dtypes: object(3)\n",
      "memory usage: 42.7+ KB\n"
     ]
    }
   ],
   "source": [
    "data.info()"
   ]
  },
  {
   "cell_type": "code",
   "execution_count": 9,
   "id": "b5b17995",
   "metadata": {},
   "outputs": [
    {
     "data": {
      "text/html": [
       "<div>\n",
       "<style scoped>\n",
       "    .dataframe tbody tr th:only-of-type {\n",
       "        vertical-align: middle;\n",
       "    }\n",
       "\n",
       "    .dataframe tbody tr th {\n",
       "        vertical-align: top;\n",
       "    }\n",
       "\n",
       "    .dataframe thead th {\n",
       "        text-align: right;\n",
       "    }\n",
       "</style>\n",
       "<table border=\"1\" class=\"dataframe\">\n",
       "  <thead>\n",
       "    <tr style=\"text-align: right;\">\n",
       "      <th></th>\n",
       "      <th>Rating</th>\n",
       "      <th>Review_title</th>\n",
       "      <th>Product_review</th>\n",
       "    </tr>\n",
       "  </thead>\n",
       "  <tbody>\n",
       "    <tr>\n",
       "      <th>0</th>\n",
       "      <td>5</td>\n",
       "      <td>BEST ROB VAC (in this price range)</td>\n",
       "      <td>I purchased the Roborock E4 over a month ago.</td>\n",
       "    </tr>\n",
       "    <tr>\n",
       "      <th>1</th>\n",
       "      <td>4</td>\n",
       "      <td>A True LIFE SAVER!!!!</td>\n",
       "      <td>I've only noticed a few minor issues with this...</td>\n",
       "    </tr>\n",
       "    <tr>\n",
       "      <th>2</th>\n",
       "      <td>5</td>\n",
       "      <td>Great value robot vac</td>\n",
       "      <td>We have had this little vac for almost two mo...</td>\n",
       "    </tr>\n",
       "    <tr>\n",
       "      <th>3</th>\n",
       "      <td>5</td>\n",
       "      <td>My new helper</td>\n",
       "      <td>First of all, I used to be a person who saw a ...</td>\n",
       "    </tr>\n",
       "    <tr>\n",
       "      <th>4</th>\n",
       "      <td>1</td>\n",
       "      <td>Gets stuck on EVERYTHING. Constant supervision...</td>\n",
       "      <td>Grabbed this on Cyber Monday and was really e...</td>\n",
       "    </tr>\n",
       "  </tbody>\n",
       "</table>\n",
       "</div>"
      ],
      "text/plain": [
       "  Rating                                       Review_title  \\\n",
       "0      5                 BEST ROB VAC (in this price range)   \n",
       "1      4                              A True LIFE SAVER!!!!   \n",
       "2      5                              Great value robot vac   \n",
       "3      5                                      My new helper   \n",
       "4      1  Gets stuck on EVERYTHING. Constant supervision...   \n",
       "\n",
       "                                      Product_review  \n",
       "0      I purchased the Roborock E4 over a month ago.  \n",
       "1  I've only noticed a few minor issues with this...  \n",
       "2   We have had this little vac for almost two mo...  \n",
       "3  First of all, I used to be a person who saw a ...  \n",
       "4   Grabbed this on Cyber Monday and was really e...  "
      ]
     },
     "execution_count": 9,
     "metadata": {},
     "output_type": "execute_result"
    }
   ],
   "source": [
    "data.head()"
   ]
  },
  {
   "cell_type": "code",
   "execution_count": 10,
   "id": "a3994816",
   "metadata": {},
   "outputs": [],
   "source": [
    "def review_sentiments(Rating):\n",
    "    if int(Rating) > 3:\n",
    "        return 'Positive'\n",
    "    elif int(Rating) == 3:\n",
    "        return 'Neutral'\n",
    "    elif int(Rating) < 3:\n",
    "        return 'Negative'\n",
    "    else:\n",
    "        return \"Error occured\""
   ]
  },
  {
   "cell_type": "code",
   "execution_count": 11,
   "id": "9b00cd76",
   "metadata": {},
   "outputs": [
    {
     "data": {
      "text/html": [
       "<div>\n",
       "<style scoped>\n",
       "    .dataframe tbody tr th:only-of-type {\n",
       "        vertical-align: middle;\n",
       "    }\n",
       "\n",
       "    .dataframe tbody tr th {\n",
       "        vertical-align: top;\n",
       "    }\n",
       "\n",
       "    .dataframe thead th {\n",
       "        text-align: right;\n",
       "    }\n",
       "</style>\n",
       "<table border=\"1\" class=\"dataframe\">\n",
       "  <thead>\n",
       "    <tr style=\"text-align: right;\">\n",
       "      <th></th>\n",
       "      <th>Rating</th>\n",
       "      <th>Review_title</th>\n",
       "      <th>Product_review</th>\n",
       "      <th>Sentiments</th>\n",
       "    </tr>\n",
       "  </thead>\n",
       "  <tbody>\n",
       "    <tr>\n",
       "      <th>0</th>\n",
       "      <td>5</td>\n",
       "      <td>BEST ROB VAC (in this price range)</td>\n",
       "      <td>I purchased the Roborock E4 over a month ago.</td>\n",
       "      <td>Positive</td>\n",
       "    </tr>\n",
       "    <tr>\n",
       "      <th>1</th>\n",
       "      <td>4</td>\n",
       "      <td>A True LIFE SAVER!!!!</td>\n",
       "      <td>I've only noticed a few minor issues with this...</td>\n",
       "      <td>Positive</td>\n",
       "    </tr>\n",
       "    <tr>\n",
       "      <th>2</th>\n",
       "      <td>5</td>\n",
       "      <td>Great value robot vac</td>\n",
       "      <td>We have had this little vac for almost two mo...</td>\n",
       "      <td>Positive</td>\n",
       "    </tr>\n",
       "    <tr>\n",
       "      <th>3</th>\n",
       "      <td>5</td>\n",
       "      <td>My new helper</td>\n",
       "      <td>First of all, I used to be a person who saw a ...</td>\n",
       "      <td>Positive</td>\n",
       "    </tr>\n",
       "    <tr>\n",
       "      <th>4</th>\n",
       "      <td>1</td>\n",
       "      <td>Gets stuck on EVERYTHING. Constant supervision...</td>\n",
       "      <td>Grabbed this on Cyber Monday and was really e...</td>\n",
       "      <td>Negative</td>\n",
       "    </tr>\n",
       "  </tbody>\n",
       "</table>\n",
       "</div>"
      ],
      "text/plain": [
       "  Rating                                       Review_title  \\\n",
       "0      5                 BEST ROB VAC (in this price range)   \n",
       "1      4                              A True LIFE SAVER!!!!   \n",
       "2      5                              Great value robot vac   \n",
       "3      5                                      My new helper   \n",
       "4      1  Gets stuck on EVERYTHING. Constant supervision...   \n",
       "\n",
       "                                      Product_review Sentiments  \n",
       "0      I purchased the Roborock E4 over a month ago.   Positive  \n",
       "1  I've only noticed a few minor issues with this...   Positive  \n",
       "2   We have had this little vac for almost two mo...   Positive  \n",
       "3  First of all, I used to be a person who saw a ...   Positive  \n",
       "4   Grabbed this on Cyber Monday and was really e...   Negative  "
      ]
     },
     "execution_count": 11,
     "metadata": {},
     "output_type": "execute_result"
    }
   ],
   "source": [
    "data['Sentiments'] = data['Rating'].apply(review_sentiments)\n",
    "data.head()"
   ]
  },
  {
   "cell_type": "code",
   "execution_count": 12,
   "id": "6913164a",
   "metadata": {},
   "outputs": [
    {
     "data": {
      "text/plain": [
       "Text(0.5, 1.0, 'Distribution of Reviews Category')"
      ]
     },
     "execution_count": 12,
     "metadata": {},
     "output_type": "execute_result"
    },
    {
     "data": {
      "image/png": "[encoded data removed]",
      "text/plain": [
       "<Figure size 432x288 with 1 Axes>"
      ]
     },
     "metadata": {
      "needs_background": "light"
     },
     "output_type": "display_data"
    }
   ],
   "source": [
    "sns.countplot(data['Sentiments']).set_title(\"Distribution of Reviews Category\")   #distribution of the reviews\n",
    "#kindle_df"
   ]
  },
  {
   "cell_type": "code",
   "execution_count": null,
   "id": "3a55c997",
   "metadata": {},
   "outputs": [],
   "source": []
  }
 ],
 "metadata": {
  "kernelspec": {
   "display_name": "Python 3 (ipykernel)",
   "language": "python",
   "name": "python3"
  },
  "language_info": {
   "codemirror_mode": {
    "name": "ipython",
    "version": 3
   },
   "file_extension": ".py",
   "mimetype": "text/x-python",
   "name": "python",
   "nbconvert_exporter": "python",
   "pygments_lexer": "ipython3",
   "version": "3.9.7"
  }
 },
 "nbformat": 4,
 "nbformat_minor": 5
}
